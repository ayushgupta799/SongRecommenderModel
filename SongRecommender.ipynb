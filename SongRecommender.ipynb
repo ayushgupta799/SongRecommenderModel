{
  "nbformat": 4,
  "nbformat_minor": 0,
  "metadata": {
    "colab": {
      "name": "SongRecommender.ipynb",
      "provenance": [],
      "mount_file_id": "1Q5y-ZHotqEhRhMBaTwn94fXLpOcjQ1eI",
      "authorship_tag": "ABX9TyPNJnDJJA4Za1pks0BbjX1e",
      "include_colab_link": true
    },
    "kernelspec": {
      "name": "python3",
      "display_name": "Python 3"
    }
  },
  "cells": [
    {
      "cell_type": "markdown",
      "metadata": {
        "id": "view-in-github",
        "colab_type": "text"
      },
      "source": [
        "<a href=\"https://colab.research.google.com/github/ayushgupta799/SongRecommenderModel/blob/main/SongRecommender.ipynb\" target=\"_parent\"><img src=\"https://colab.research.google.com/assets/colab-badge.svg\" alt=\"Open In Colab\"/></a>"
      ]
    },
    {
      "cell_type": "code",
      "metadata": {
        "id": "eMKjrI8HhIlN"
      },
      "source": [
        "pip install -U turicreate"
      ],
      "execution_count": null,
      "outputs": []
    },
    {
      "cell_type": "code",
      "metadata": {
        "id": "QkSuF9_Jhdpj"
      },
      "source": [
        "import turicreate"
      ],
      "execution_count": 2,
      "outputs": []
    },
    {
      "cell_type": "code",
      "metadata": {
        "id": "cUd06HCg897P"
      },
      "source": [
        "songdata = turicreate.SFrame('/content/drive/My Drive/Colab Notebooks/song_data.sframe')"
      ],
      "execution_count": 3,
      "outputs": []
    },
    {
      "cell_type": "code",
      "metadata": {
        "id": "HtPDCnDK9is8"
      },
      "source": [
        "songdata"
      ],
      "execution_count": null,
      "outputs": []
    },
    {
      "cell_type": "code",
      "metadata": {
        "id": "gL3BciuZaTU3"
      },
      "source": [
        "users = songdata['user_id'].unique()"
      ],
      "execution_count": 5,
      "outputs": []
    },
    {
      "cell_type": "code",
      "metadata": {
        "id": "8IZwYzD-gb7f"
      },
      "source": [
        "len(songdata[songdata['artist']=='Kanye West'].unique())"
      ],
      "execution_count": null,
      "outputs": []
    },
    {
      "cell_type": "code",
      "metadata": {
        "id": "aimWS7Jxh-Wq"
      },
      "source": [
        "len(songdata[songdata['artist']=='Foo Fighters'].unique())"
      ],
      "execution_count": null,
      "outputs": []
    },
    {
      "cell_type": "code",
      "metadata": {
        "id": "UREt7nJricqe"
      },
      "source": [
        "len(songdata[songdata['artist']=='Taylor Swift'].unique())"
      ],
      "execution_count": null,
      "outputs": []
    },
    {
      "cell_type": "code",
      "metadata": {
        "id": "M9L-ygM4ih_S"
      },
      "source": [
        "len(songdata[songdata['artist']=='Lady GaGa'].unique())"
      ],
      "execution_count": null,
      "outputs": []
    },
    {
      "cell_type": "code",
      "metadata": {
        "id": "iklKAP-fa3SW"
      },
      "source": [
        "len(users)"
      ],
      "execution_count": null,
      "outputs": []
    },
    {
      "cell_type": "code",
      "metadata": {
        "id": "ZBcxcd1oa_En"
      },
      "source": [
        "traindata,testdata = songdata.random_split(0.8,seed = 0)"
      ],
      "execution_count": 10,
      "outputs": []
    },
    {
      "cell_type": "markdown",
      "metadata": {
        "id": "scc4ssyqbSR-"
      },
      "source": [
        "**SIMPLE POPULARITY BASED RECOMMENDER**"
      ]
    },
    {
      "cell_type": "code",
      "metadata": {
        "id": "LPdocOGebQEy"
      },
      "source": [
        "popularitymodel = turicreate.popularity_recommender.create(traindata,\n",
        "                                                           user_id = 'user_id',\n",
        "                                                           item_id = 'song')"
      ],
      "execution_count": null,
      "outputs": []
    },
    {
      "cell_type": "code",
      "metadata": {
        "id": "m7CLPKQwb-XJ"
      },
      "source": [
        "popularitymodel.recommend(users= [users[0]])"
      ],
      "execution_count": null,
      "outputs": []
    },
    {
      "cell_type": "markdown",
      "metadata": {
        "id": "KUgZKm1Mc8FG"
      },
      "source": [
        "**RECOMMENDER WITH PERSONALIZATION**"
      ]
    },
    {
      "cell_type": "code",
      "metadata": {
        "id": "e9e1ei2scsZw"
      },
      "source": [
        "personalizedmodel= turicreate.item_similarity_recommender.create(traindata,user_id='user_id',item_id='song')"
      ],
      "execution_count": null,
      "outputs": []
    },
    {
      "cell_type": "code",
      "metadata": {
        "id": "xmFf470JdlPj"
      },
      "source": [
        "personalizedmodel.recommend(users=[users[1]])"
      ],
      "execution_count": null,
      "outputs": []
    },
    {
      "cell_type": "code",
      "metadata": {
        "id": "dT5ItFm-d5eI"
      },
      "source": [
        "personalizedmodel.get_similar_items(['With Or Without You - U2'])"
      ],
      "execution_count": null,
      "outputs": []
    },
    {
      "cell_type": "markdown",
      "metadata": {
        "id": "vppZssfEex4s"
      },
      "source": [
        "**comparision**"
      ]
    },
    {
      "cell_type": "code",
      "metadata": {
        "id": "nTxnKWWWeY6u"
      },
      "source": [
        "import matplotlib\n",
        "%matplotlib inline"
      ],
      "execution_count": 16,
      "outputs": []
    },
    {
      "cell_type": "code",
      "metadata": {
        "id": "zOjzo5cQfIdI"
      },
      "source": [
        "modelperformance = turicreate.recommender.util.compare_models(testdata,[popularitymodel,personalizedmodel],user_sample= 0.05)"
      ],
      "execution_count": null,
      "outputs": []
    },
    {
      "cell_type": "code",
      "metadata": {
        "id": "BXZUhjzmf2Mm"
      },
      "source": [
        ""
      ],
      "execution_count": 21,
      "outputs": []
    },
    {
      "cell_type": "code",
      "metadata": {
        "id": "iBSqROgOi_2n"
      },
      "source": [
        "fsongdata.groupby(key_column_names='artist', operations={'total_count': turicreate.aggregate.SUM('listen_count')}).sort('total_count',ascending = True)"
      ],
      "execution_count": null,
      "outputs": []
    },
    {
      "cell_type": "code",
      "metadata": {
        "id": "xNK1Sc83jG3W"
      },
      "source": [
        "subset_test_users = testdata['user_id'].unique()[0:10000]"
      ],
      "execution_count": 23,
      "outputs": []
    },
    {
      "cell_type": "code",
      "metadata": {
        "id": "PZ7ElMOEkBoh"
      },
      "source": [
        "personalizedmodel.recommend(subset_test_users,k=1)"
      ],
      "execution_count": null,
      "outputs": []
    },
    {
      "cell_type": "code",
      "metadata": {
        "id": "12Y16oLMkYV8"
      },
      "source": [
        "songdata.groupby(key_column_names='song', operations={'count': turicreate.aggregate.COUNT()}).sort('count',ascending = False)"
      ],
      "execution_count": null,
      "outputs": []
    }
  ]
}